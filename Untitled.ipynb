{
 "cells": [
  {
   "cell_type": "code",
   "execution_count": 43,
   "metadata": {
    "scrolled": true
   },
   "outputs": [
    {
     "name": "stdout",
     "output_type": "stream",
     "text": [
      "5.0\n",
      "Anurag is healthy\n"
     ]
    }
   ],
   "source": [
    "name ='Anurag'\n",
    "height_m = 4\n",
    "weight_kg = 80\n",
    "bmi = weight_kg/height_m**2\n",
    "print(bmi)\n",
    "if bmi>= 20:\n",
    "    print(name + \" is overweight\")\n",
    "else:\n",
    "    print(name+' is healthy')"
   ]
  },
  {
   "cell_type": "code",
   "execution_count": 28,
   "metadata": {},
   "outputs": [],
   "source": [
    "             # PHONE CALCULATOR\n",
    "brand1 = \"samsung\"\n",
    "model1 = \"note 9\"\n",
    "specscore1 = 92\n",
    "price_dollars1 = 9000\n",
    "brand2 = \"oneplus\"\n",
    "model2 = 6\n",
    "specscore2 = 85\n",
    "price_dollars2 = 4000\n",
    "\n"
   ]
  },
  {
   "cell_type": "code",
   "execution_count": 62,
   "metadata": {},
   "outputs": [],
   "source": [
    "def mobile_index( brand, model, specscore, price_dollars):\n",
    "    mobile_index = price_dollars/(specscore)\n",
    "    print(\" Mobile Index :\")\n",
    "    print(mobile_index)\n",
    "    \n",
    "    if mobile_index>70:\n",
    "        return brand + \" is best\"\n",
    "    else:\n",
    "        return brand + \" is bad\"\n",
    "    \n",
    "    \n"
   ]
  },
  {
   "cell_type": "code",
   "execution_count": 61,
   "metadata": {},
   "outputs": [
    {
     "name": "stdout",
     "output_type": "stream",
     "text": [
      " Mobile Index :\n",
      "97.82608695652173\n",
      "oneplus is bad\n",
      " Mobile Index :\n",
      "47.05882352941177\n",
      "oneplus is bad\n"
     ]
    }
   ],
   "source": [
    "rs1=mobile_index( brand1, model1, specscore1, price_dollars1)\n",
    "print(rs2)\n",
    "rs2=mobile_index(brand2,model2,specscore2,price_dollars2)\n",
    "print(rs2)"
   ]
  },
  {
   "cell_type": "code",
   "execution_count": null,
   "metadata": {},
   "outputs": [],
   "source": []
  }
 ],
 "metadata": {
  "kernelspec": {
   "display_name": "Python 3",
   "language": "python",
   "name": "python3"
  },
  "language_info": {
   "codemirror_mode": {
    "name": "ipython",
    "version": 3
   },
   "file_extension": ".py",
   "mimetype": "text/x-python",
   "name": "python",
   "nbconvert_exporter": "python",
   "pygments_lexer": "ipython3",
   "version": "3.7.1"
  }
 },
 "nbformat": 4,
 "nbformat_minor": 2
}
