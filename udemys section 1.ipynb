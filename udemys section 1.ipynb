{
 "cells": [
  {
   "cell_type": "code",
   "execution_count": 5,
   "metadata": {
    "scrolled": false
   },
   "outputs": [
    {
     "data": {
      "text/plain": [
       "2401"
      ]
     },
     "execution_count": 5,
     "metadata": {},
     "output_type": "execute_result"
    }
   ],
   "source": [
    "7**4\n",
    "# its 7 to the power of 4"
   ]
  },
  {
   "cell_type": "code",
   "execution_count": 4,
   "metadata": {},
   "outputs": [
    {
     "data": {
      "text/plain": [
       "['hi', 'there', 'sam', 'and', 'Fuck', 'u', '!']"
      ]
     },
     "execution_count": 4,
     "metadata": {},
     "output_type": "execute_result"
    }
   ],
   "source": [
    "s=\"hi there sam and Fuck u !\"\n",
    "s.split()"
   ]
  },
  {
   "cell_type": "code",
   "execution_count": 9,
   "metadata": {},
   "outputs": [
    {
     "name": "stdout",
     "output_type": "stream",
     "text": [
      "The diameter of Earth is 12742 kilometers\n",
      "The square of 5 to the power 2 is 25\n"
     ]
    }
   ],
   "source": [
    "planet ='Earth'\n",
    "diameter=12742\n",
    "print('The diameter of {} is {} kilometers'.format(planet,diameter))\n",
    "num1 = 5\n",
    "num2 =2\n",
    "res= 5**2\n",
    "print('The square of {} to the power {} is {}'.format(num1,num2,res))"
   ]
  },
  {
   "cell_type": "code",
   "execution_count": 13,
   "metadata": {},
   "outputs": [
    {
     "name": "stdout",
     "output_type": "stream",
     "text": [
      "[1, 2, [3, 4], [5, [100, 200, ['hello']], 23, 11], 1, 7]\n"
     ]
    }
   ],
   "source": [
    "list=[1,2,[3,4],[5,[100,200,['hello']],23,11],1,7]\n",
    "print(list)"
   ]
  },
  {
   "cell_type": "code",
   "execution_count": 14,
   "metadata": {},
   "outputs": [
    {
     "name": "stdout",
     "output_type": "stream",
     "text": [
      "Any Number 5\n",
      "105\n"
     ]
    }
   ],
   "source": [
    "a=int(input('Any Number '))\n",
    "b=a+100\n",
    "print(b)"
   ]
  },
  {
   "cell_type": "markdown",
   "metadata": {},
   "source": [
    "#see it give s the greatest integer value\n",
    "12//3"
   ]
  },
  {
   "cell_type": "code",
   "execution_count": 15,
   "metadata": {},
   "outputs": [
    {
     "data": {
      "text/plain": [
       "6"
      ]
     },
     "execution_count": 15,
     "metadata": {},
     "output_type": "execute_result"
    }
   ],
   "source": [
    "#see it gives the greatest integer value 12//3\n",
    "\n",
    "20//3"
   ]
  },
  {
   "cell_type": "code",
   "execution_count": 23,
   "metadata": {},
   "outputs": [
    {
     "data": {
      "text/plain": [
       "3"
      ]
     },
     "execution_count": 23,
     "metadata": {},
     "output_type": "execute_result"
    }
   ],
   "source": [
    "f = 6\n",
    "n =3\n",
    "f=f-n\n",
    "f\n"
   ]
  },
  {
   "cell_type": "code",
   "execution_count": 26,
   "metadata": {},
   "outputs": [
    {
     "name": "stdout",
     "output_type": "stream",
     "text": [
      "He said 'You were amazing!' yesterday.\n"
     ]
    }
   ],
   "source": [
    "escaped_quotes = \"He said 'You were amazing!' yesterday.\"\n",
    "print(escaped_quotes)"
   ]
  },
  {
   "cell_type": "code",
   "execution_count": 27,
   "metadata": {},
   "outputs": [
    {
     "name": "stdout",
     "output_type": "stream",
     "text": [
      " enter ur name 12\n",
      "Hello 12\n"
     ]
    }
   ],
   "source": [
    "# ok  now i m learning to use the format method as well as f string method\n",
    "name = input(' enter ur name ')\n",
    "greeting = \"Hello \"+name\n",
    "print(greeting)\n",
    "#remember only str can be added via using \"+\" method no int f(x)"
   ]
  },
  {
   "cell_type": "code",
   "execution_count": null,
   "metadata": {},
   "outputs": [],
   "source": [
    "# above 1 was the basic \n",
    "# now using format method\n",
    "#let's Go\n",
    "# ok  now i m learning to use the format method as well as f string method\n",
    "name = str(input(' enter ur name')) #u may or may not use str f(x) here\n",
    "greeting = \"Hello \"+name\n",
    "print(greeting)\n",
    "greeting2 = 'Hi ! {}'\n",
    "print(greeting2.format(name)) #\".\" is used to call inside something\n"
   ]
  },
  {
   "cell_type": "code",
   "execution_count": 1,
   "metadata": {
    "scrolled": true
   },
   "outputs": [
    {
     "name": "stdout",
     "output_type": "stream",
     "text": [
      "give ur honourable name 4\n",
      " Enter ur age 4\n",
      "Hello Mr. 4\n",
      "have lived for 48 momnths\n"
     ]
    }
   ],
   "source": [
    "# 1. okay now a mix part where we can find or input ur name and\n",
    "# try to calculate how many months u have lived\n",
    "name = str(input('give ur honourable name '))\n",
    "age=int(input(' Enter ur age '))\n",
    "age=age*12\n",
    "print(\"Hello Mr. \"+name)\n",
    "print(f'have lived for {age} momnths')"
   ]
  },
  {
   "cell_type": "code",
   "execution_count": null,
   "metadata": {},
   "outputs": [],
   "source": [
    "#USING boolen language of python\n",
    "a=int(input(' Enter ur number'))\n",
    "b=5\n",
    "print(a==b)\n",
    "print(a!=b)\n",
    "print(a<b)\n",
    "print(a>b)"
   ]
  },
  {
   "cell_type": "code",
   "execution_count": null,
   "metadata": {},
   "outputs": [],
   "source": [
    "# see here in boolean system we can also use \n",
    "# all the basic concepts of that logic gates that we already \n",
    "# used in digital logic\n",
    "0 and 1\n",
    "1 and 1\n",
    "1 or 1\n",
    "0 or 1#etc"
   ]
  },
  {
   "cell_type": "code",
   "execution_count": null,
   "metadata": {},
   "outputs": [],
   "source": [
    "#list uses[]\n",
    "#tuple uses()\n",
    "#set uses{}\n",
    "#dictionary uses[]\n",
    "#we can also use[0] or [1] to call any sting from list or tuples\n",
    "#that are 0 and 1# or sets using indexing coz in pythn indexing start from 0..infinity XD\n"
   ]
  },
  {
   "cell_type": "code",
   "execution_count": null,
   "metadata": {},
   "outputs": [],
   "source": [
    "#use append function to add files and pop to remove files"
   ]
  },
  {
   "cell_type": "code",
   "execution_count": null,
   "metadata": {},
   "outputs": [],
   "source": [
    "#dictionaries we cannot add subtract them\n"
   ]
  },
  {
   "cell_type": "code",
   "execution_count": 4,
   "metadata": {},
   "outputs": [
    {
     "name": "stdout",
     "output_type": "stream",
     "text": [
      "{1, 3, 5}\n",
      "3\n"
     ]
    }
   ],
   "source": [
    "#here in this cell i m testing the intersection functionXD\n",
    "# see important point to be noted we cannot use and(&) among list\n",
    "# it must be specifically used wrt to sets\n",
    "a = {1,2,3,4,5}\n",
    "b = {1,3,5}\n",
    "s =  a & b\n",
    "l = len(s)\n",
    "print (s)\n",
    "print (l)\n"
   ]
  },
  {
   "cell_type": "code",
   "execution_count": null,
   "metadata": {},
   "outputs": [],
   "source": [
    "#now i m using thepractice question here\n",
    "# this 1 was a very intense question........\n",
    "lottery_numbers = {13, 21, 22, 5, 8}\n",
    "print(lottery_numbers)\n",
    "players=[{\n",
    "    'name':'Anurag',\n",
    "    'numbers':{1,13,21,5,6}},\n",
    "     {\n",
    "         'name':'Chinu',\n",
    "         'numbers':{22,8,4,7,0}\n",
    "     }  ]\n",
    "name = players[0]['name']\n",
    "numbers = players[0]['numbers'] &(lottery_numbers)\n",
    "print('Player {name} got {amount} numbers right.'.format(name=name, amount=len(numbers)))\n",
    " \n",
    "name = players[1]['name']\n",
    "numbers = players[1]['numbers'].intersection(lottery_numbers)\n",
    "print('Player {name} got {amount} numbers right.'.format(name=name, amount=len(numbers)))\n",
    "                                                \n",
    "\n"
   ]
  },
  {
   "cell_type": "code",
   "execution_count": null,
   "metadata": {},
   "outputs": [],
   "source": [
    "# ok u need to the same question as mentioned abve dor three choices\n",
    "# it must be somethin glike a deck of cards game anfd who is winner\n",
    "#go on dont waste time\n",
    "lottery={1,2,3,4,5,6,7,8,9,10}\n",
    "players=[\n",
    "   {'name': 'anu',\n",
    "    'no.':{1,3,5,7,9}},\n",
    "   { 'name':'Chinu',\n",
    "    'no.':{2,4,6,8}}]\n",
    "name=players[0]['name']\n",
    "numbers=players[0]['no.']& (lottery)\n",
    "print('Hello {name} u won {amount} number of correct tickets'.format(name=name,amount=len(numbers)))\n",
    "\n",
    "name=players[1]['name']\n",
    "numbers=players[1]['no.']&(lottery)\n",
    "print('hello {name} u won the tickets in {amount}'.format(name=name,amount=len(numbers)))"
   ]
  },
  {
   "cell_type": "code",
   "execution_count": null,
   "metadata": {},
   "outputs": [],
   "source": []
  }
 ],
 "metadata": {
  "kernelspec": {
   "display_name": "Python 3",
   "language": "python",
   "name": "python3"
  },
  "language_info": {
   "codemirror_mode": {
    "name": "ipython",
    "version": 3
   },
   "file_extension": ".py",
   "mimetype": "text/x-python",
   "name": "python",
   "nbconvert_exporter": "python",
   "pygments_lexer": "ipython3",
   "version": "3.7.1"
  }
 },
 "nbformat": 4,
 "nbformat_minor": 2
}
