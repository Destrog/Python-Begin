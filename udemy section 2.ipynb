{
 "cells": [
  {
   "cell_type": "code",
   "execution_count": null,
   "metadata": {},
   "outputs": [],
   "source": [
    "#dt>30/1/2019\n",
    "#u should not take more tha 1 day to complr=ete this section\n",
    "#atleast my target is to complete 1 section in 1 day"
   ]
  },
  {
   "cell_type": "code",
   "execution_count": 3,
   "metadata": {},
   "outputs": [
    {
     "name": "stdout",
     "output_type": "stream",
     "text": [
      "hi\n"
     ]
    }
   ],
   "source": [
    "#if else statements\n",
    "#hence we not need to write if is_programmer is True statement\n",
    "#itassumes it to be true and we need not write\n",
    "# the statement (f is_programmer is True )\n",
    "#use also elif  but only 1 can be processed\n",
    "isrogrammer = False\n",
    "is_awesome = True\n",
    "\n",
    "if isrogrammer is True:                             \n",
    "    print('you r awesome')\n",
    "print('hi')                             "
   ]
  },
  {
   "cell_type": "code",
   "execution_count": null,
   "metadata": {},
   "outputs": [],
   "source": [
    "#As an aside and for some extra information, read the below:\n",
    "\n",
    "#Python has built-in functions such as int()  to convert things to integers (whole numbers).\n",
    "\n",
    "#Python also has a built-in function called bool() , used to convert things to Booleans (True/False values).\n",
    "\n",
    "#In if statements, what happens is that the <condition>  is inside a bool() . Essentially something like this:\n",
    "\n",
    "#if bool(is_programmer is False) is True:\n",
    "   # <block>\n",
    "#So:\n",
    "\n",
    "#if 5:  becomes if bool(5) is True: \n",
    "\n",
    "#And:\n",
    "\n",
    "#if 'hello, world!':  becomes if bool('hello, world!') is True: \n",
    "\n",
    "#That ensures that we're always comparing apples to apples, and not apples to oranges.\n",
    "\n",
    "#The bool()  function gives us True  for most things (e.g. bool('hello, world!')  gives us True). It only returns False for a couple things, like:\n",
    "\n",
    "#bool(0)\n",
    "#bool(0.0)\n",
    "#bool('')  # empty string\n",
    "#bool(None)\n",
    "#bool([])  # empty list\n",
    "#And a few others. Hope this clears some things up!"
   ]
  },
  {
   "cell_type": "code",
   "execution_count": null,
   "metadata": {},
   "outputs": [],
   "source": [
    "#while loop\n",
    "is_programmer = True\n",
    "if is_programmer:\n",
    "    print('hello Aoeld')\n",
    "    \n",
    "    \n",
    "i=0\n",
    "while i<10:\n",
    "    i=i+1\n",
    "    print(i)"
   ]
  },
  {
   "cell_type": "code",
   "execution_count": null,
   "metadata": {},
   "outputs": [],
   "source": [
    "#udemy practice set 22\n",
    "user_input = input('Enter q or p: ')\n",
    " \n",
    "# Now we must repeat until they type 'q':\n",
    "while user_input != 'q':\n",
    "    # Inside our loop, check if they typed 'p'. If they did, print \"Hello\"\n",
    "    if user_input == 'p':\n",
    "        print(\"Hello\")\n",
    "    # Now we must ask the user for their input again—otherwise we would be in an infinite loop!\n",
    "    user_input = input('Enter q or p: ')\n"
   ]
  },
  {
   "cell_type": "code",
   "execution_count": null,
   "metadata": {},
   "outputs": [],
   "source": [
    "#for loops\n",
    "#python call this iterables\n",
    "primes=[2,3,5,7,9]\n",
    "for prime in primes:\n",
    "    print(f'{prime} is a prime no.')"
   ]
  },
  {
   "cell_type": "code",
   "execution_count": null,
   "metadata": {},
   "outputs": [],
   "source": [
    "#ex 2\n",
    "kid_ages=(3,9,12)  #using tuples\n",
    "for age in kid_ages:\n",
    "    print(f'{age} is the year of that child')\n"
   ]
  },
  {
   "cell_type": "code",
   "execution_count": 8,
   "metadata": {},
   "outputs": [
    {
     "name": "stdout",
     "output_type": "stream",
     "text": [
      "rolf is my friend last saw them 7 ago\n",
      "annne is my friend last saw them 7 ago\n",
      "jose is my friend last saw them 7 ago\n"
     ]
    }
   ],
   "source": [
    "#using for in dictionary\n",
    "my_friend = {'rolf':6,'annne':9,'jose':7}\n",
    "for name in my_friend:\n",
    "    print(f'{name} is my friend last saw them {my_friend[name]} ago')\n",
    "\n"
   ]
  },
  {
   "cell_type": "code",
   "execution_count": 9,
   "metadata": {},
   "outputs": [
    {
     "name": "stdout",
     "output_type": "stream",
     "text": [
      "dict_items([('rolf', 6), ('annne', 9), ('jose', 7)])\n",
      "dict_items([('rolf', 6), ('annne', 9), ('jose', 7)])\n",
      "dict_items([('rolf', 6), ('annne', 9), ('jose', 7)])\n"
     ]
    }
   ],
   "source": [
    "#other method\n",
    "my_friend = {'rolf':6,'annne':9,'jose':7}\n",
    "for name,days in my_friend.items():\n",
    "    print(my_friend.items())\n"
   ]
  },
  {
   "cell_type": "code",
   "execution_count": 10,
   "metadata": {},
   "outputs": [
    {
     "name": "stdout",
     "output_type": "stream",
     "text": [
      "rolf\n",
      "6\n",
      "annne\n",
      "9\n",
      "jose\n",
      "7\n"
     ]
    }
   ],
   "source": [
    "#is known as tuple destructuring\n",
    "for t in ([('rolf', 6), ('annne', 9), ('jose', 7)]):\n",
    "    n,v=t\n",
    "    print(n)\n",
    "    print(v)"
   ]
  },
  {
   "cell_type": "code",
   "execution_count": 11,
   "metadata": {
    "scrolled": false
   },
   "outputs": [
    {
     "name": "stdout",
     "output_type": "stream",
     "text": [
      " car is ok for selling\n",
      " car is ok for selling\n",
      " car is ok for selling\n",
      " car is ok for selling\n",
      "stoppin pdxn line\n"
     ]
    }
   ],
   "source": [
    "#using break and continue\n",
    "car_status=['ok','ok','ok','ok','faulty','ok']\n",
    "for car in car_status:\n",
    "    if car=='faulty':\n",
    "        print('stoppin pdxn line')\n",
    "        break\n",
    "    print(f' car is {car} for selling')\n",
    "     "
   ]
  },
  {
   "cell_type": "code",
   "execution_count": 13,
   "metadata": {},
   "outputs": [
    {
     "name": "stdout",
     "output_type": "stream",
     "text": [
      "1\n",
      "2\n",
      "Fizz\n",
      "4\n",
      "Buzz\n",
      "Fizz\n",
      "7\n",
      "8\n",
      "Fizz\n",
      "Buzz\n",
      "11\n",
      "Fizz\n",
      "13\n",
      "14\n",
      "FizzBuzz\n",
      "16\n",
      "17\n",
      "Fizz\n",
      "19\n",
      "Buzz\n",
      "Fizz\n",
      "22\n",
      "23\n",
      "Fizz\n",
      "Buzz\n",
      "26\n",
      "Fizz\n",
      "28\n",
      "29\n",
      "FizzBuzz\n",
      "31\n",
      "32\n",
      "Fizz\n",
      "34\n",
      "Buzz\n",
      "Fizz\n",
      "37\n",
      "38\n",
      "Fizz\n",
      "Buzz\n",
      "41\n",
      "Fizz\n",
      "43\n",
      "44\n",
      "FizzBuzz\n",
      "46\n",
      "47\n",
      "Fizz\n",
      "49\n",
      "Buzz\n",
      "Fizz\n",
      "52\n",
      "53\n",
      "Fizz\n",
      "Buzz\n",
      "56\n",
      "Fizz\n",
      "58\n",
      "59\n",
      "FizzBuzz\n",
      "61\n",
      "62\n",
      "Fizz\n",
      "64\n",
      "Buzz\n",
      "Fizz\n",
      "67\n",
      "68\n",
      "Fizz\n",
      "Buzz\n",
      "71\n",
      "Fizz\n",
      "73\n",
      "74\n",
      "FizzBuzz\n",
      "76\n",
      "77\n",
      "Fizz\n",
      "79\n",
      "Buzz\n",
      "Fizz\n",
      "82\n",
      "83\n",
      "Fizz\n",
      "Buzz\n",
      "86\n",
      "Fizz\n",
      "88\n",
      "89\n",
      "FizzBuzz\n",
      "91\n",
      "92\n",
      "Fizz\n",
      "94\n",
      "Buzz\n",
      "Fizz\n",
      "97\n",
      "98\n",
      "Fizz\n",
      "Buzz\n"
     ]
    }
   ],
   "source": [
    "#the coding exercise\n",
    "l=list(range(1,101))\n",
    "for i in l:\n",
    "    if i%3==0 and i%5==0:\n",
    "        print('FizzBuzz')\n",
    "    elif i%3==0:\n",
    "        print('Fizz')\n",
    "    elif i%5==0:\n",
    "        print('Buzz')\n",
    "        \n",
    "    else:\n",
    "        print(i)\n",
    "        \n",
    "\n"
   ]
  },
  {
   "cell_type": "code",
   "execution_count": 14,
   "metadata": {},
   "outputs": [
    {
     "name": "stdout",
     "output_type": "stream",
     "text": [
      "[3, 4, 5, 6, 7, 8, 9]\n"
     ]
    }
   ],
   "source": [
    "#list slicing\n",
    "num=list(range(10))\n",
    "print(num[3:10])\n"
   ]
  },
  {
   "cell_type": "code",
   "execution_count": 15,
   "metadata": {},
   "outputs": [
    {
     "name": "stdout",
     "output_type": "stream",
     "text": [
      "[0, 2, 4, 6, 8, 10, 12, 14, 16, 18]\n",
      "[0, 2, 4, 6, 8]\n",
      "[' i m 0 years old.', ' i m 1 years old.', ' i m 2 years old.', ' i m 3 years old.', ' i m 4 years old.']\n"
     ]
    }
   ],
   "source": [
    "#list comprehension\n",
    "#for doubling the numbers in the list\n",
    "l=list(range(10))\n",
    "doubled_numbers=[]\n",
    "for i in l:\n",
    "    doubled_numbers.append(i*2)\n",
    "    \n",
    "print(doubled_numbers)\n",
    "#using shortcut\n",
    "a=list(range(5))\n",
    "doubled_num=[n*2 for n in a]\n",
    "print(doubled_num)\n",
    "text=[f' i m {age} years old.'for age in a]\n",
    "print(text)\n"
   ]
  },
  {
   "cell_type": "code",
   "execution_count": 26,
   "metadata": {},
   "outputs": [
    {
     "name": "stdout",
     "output_type": "stream",
     "text": [
      "{'Rolf': 10, 'Anna': 15, 'Charlie': 8}\n"
     ]
    }
   ],
   "source": [
    "#interactive code from the 24 chapter sec 2\n",
    "\"\"\"\n",
    "list comprehension is a Pythonic way of constructing a list.\n",
    "\"\"\"\n",
    "\n",
    "#for my_number in range(10):\n",
    "#    print(my_number)\n",
    "\n",
    "numbers = list(range(10))\n",
    "doubled = [n*2 for n in numbers]\n",
    "\n",
    "phrases = [f'I am {age} years old' for age in doubled]\n",
    "\n",
    "names_list = [\"John\", \"Rolf\", \"Anne\"]\n",
    "lowercase_names = [name.lower() for name in names_list]\n",
    "name_list2 = ['Anurag',\"goofy\"]\n",
    "uppercase_names2=[naam.upper() for naam in name_list2]\n",
    "## With conditional\n",
    "\n",
    "numbers = list(range(10))\n",
    "evens = [n for n in numbers if n % 2 == 0]\n",
    "\n",
    "friends = ['rolf', 'anna', 'charlie']\n",
    "guests = ['Jose', 'Rolf', 'ruth', 'Charlie', 'michael']\n",
    "\n",
    "present_friends = [name.capitalize() for name in guests if name.lower() in friends]\n",
    "\n",
    "# present_friends = [name.capitalize() for name in guests if name.lower() in [f.lower() for f in friends]]\n",
    "\n",
    "# Set and dictionary comprehension\n",
    "\n",
    "\"\"\"\n",
    "In the same way that we do list comprehension, we can do set comprehension\n",
    "\"\"\"\n",
    "\n",
    "friends = {'rolf', 'anna', 'charlie'}\n",
    "guests = {'jose', 'rolf', 'ruth', 'charlie', 'michael'}\n",
    "\n",
    "present_friends = friends & guests\n",
    "\n",
    "\"\"\"\n",
    "We could capitalize them using set comprehension.\n",
    "\"\"\"\n",
    "present_friends = {name.capitalize() for name in present_friends}\n",
    "\n",
    "\"\"\"\n",
    "Dictionary comprehension is also possible! All we have to do is create key-value pairs in the for loop.\n",
    "\"\"\"\n",
    "\n",
    "names = ['Rolf', 'Anna', 'Charlie']\n",
    "time_last_seen = [10, 15, 8]\n",
    "\n",
    "friends_last_seen = {names[i]: time_last_seen[i] for i in range(len(names))}\n",
    "# EXTRA\n",
    "\n",
    "\"\"\"\n",
    "This is so popular, that there's a built-in function for it!\n",
    "\"\"\"\n",
    "\n",
    "friends_last_seen = dict(zip(names, time_last_seen))\n",
    "print(friends_last_seen)"
   ]
  },
  {
   "cell_type": "code",
   "execution_count": 30,
   "metadata": {},
   "outputs": [
    {
     "name": "stdout",
     "output_type": "stream",
     "text": [
      "[0.0, 1.0, 2.0, 3.0, 4.0]\n"
     ]
    }
   ],
   "source": [
    "numbers = list(range(10))\n",
    "#see u have to iniate what u want 1st in the list\n",
    "#see here we wann print even nubres n thats why \n",
    "# we insert it before the statement of condititn\n",
    "evens=[n/2 for n in numbers if n%2==0]\n",
    "print(evens)"
   ]
  },
  {
   "cell_type": "code",
   "execution_count": 31,
   "metadata": {
    "scrolled": true
   },
   "outputs": [
    {
     "name": "stdout",
     "output_type": "stream",
     "text": [
      "['Bengali', 'Bata']\n"
     ]
    }
   ],
   "source": [
    "#finding friends in guests\n",
    "friends=['Amit','Bata','Bengali']\n",
    "guests=['anurag','chinu','Bengali','Bata']\n",
    "present=[name for name in guests if name in friends ]\n",
    "print(present)"
   ]
  },
  {
   "cell_type": "code",
   "execution_count": null,
   "metadata": {},
   "outputs": [],
   "source": [
    "#set comprehenhsion here we use{} instead of[]\n",
    "friends={'Amit','Bata','Bengali'}\n",
    "guests={'anurag','chinu','Bengali','Bata'}\n",
    "present={name.lower() for name in guests & friends}\n",
    "print(present)\n"
   ]
  },
  {
   "cell_type": "code",
   "execution_count": 50,
   "metadata": {},
   "outputs": [
    {
     "name": "stdout",
     "output_type": "stream",
     "text": [
      "Rolf won 10000.\n"
     ]
    }
   ],
   "source": [
    "#problem question\n",
    "import random\n",
    "\n",
    "# This line creates a set with 6 random numbers\n",
    "lottery_numbers = set(random.sample(list(range(22)), 6))\n",
    "\n",
    "# Here are your players; find out who has the most numbers matching lottery_numbers!\n",
    "players = [\n",
    "    {'name': 'Rolf', 'numbers': {1, 3, 5, 7, 9, 11}},\n",
    "    {'name': 'Charlie', 'numbers': {2, 7, 9, 22, 10, 5}},\n",
    "    {'name': 'Anna', 'numbers': {13, 14, 15, 16, 17, 18}},\n",
    "    {'name': 'Jen', 'numbers': {19, 20, 12, 7, 3, 5}}\n",
    "]\n",
    "top_player = players[0]  # start by saying \"the top matching player is the first one\"\n",
    " \n",
    "for player in players:  # Go over each player\n",
    "    matched_numbers = len(player['numbers'].intersection(lottery_numbers))  # Calculate how many numbers they matched\n",
    "    if matched_numbers > len(top_player['numbers'].intersection(lottery_numbers)):  # If they matched more than the current top player...\n",
    "        top_player = player  # Say this player is the new top player\n",
    " \n",
    "\n",
    "    winnings = 100 ** len(top_player['numbers'].intersection(lottery_numbers))\n",
    " \n",
    "#\n",
    "print('{} won {}.'.format(top_player['name'], winnings))\n"
   ]
  },
  {
   "cell_type": "code",
   "execution_count": 4,
   "metadata": {},
   "outputs": [
    {
     "name": "stdout",
     "output_type": "stream",
     "text": [
      "10\n",
      "None\n",
      "<function i_return at 0x000001C6A9751B70>\n"
     ]
    }
   ],
   "source": [
    "#using functions and arguments\n",
    "def i_return():\n",
    "    return 4+5\n",
    "def i_process():\n",
    "    print(5+5)\n",
    "pro=i_process()\n",
    "ret=i_return\n",
    "print(f'{pro}')\n",
    "print(f'{ret}')"
   ]
  },
  {
   "cell_type": "code",
   "execution_count": 5,
   "metadata": {},
   "outputs": [
    {
     "data": {
      "text/plain": [
       "15"
      ]
     },
     "execution_count": 5,
     "metadata": {},
     "output_type": "execute_result"
    }
   ],
   "source": [
    "#passing parameters in a function\n",
    "\n",
    "def add(x,y):\n",
    "    return x+y\n",
    "add(5,10)"
   ]
  },
  {
   "cell_type": "code",
   "execution_count": 9,
   "metadata": {},
   "outputs": [
    {
     "name": "stdout",
     "output_type": "stream",
     "text": [
      "15\n"
     ]
    }
   ],
   "source": [
    "#using anonymus function that have no name\n",
    "#() putting this calls a function\n",
    "#using lambda function\n",
    "print((lambda x,y:x+y)(5,10))\n",
    "#but print these as it will have o effect bcoz python \n",
    "#destroys a function with no name thats why use print f(x)"
   ]
  },
  {
   "cell_type": "code",
   "execution_count": null,
   "metadata": {},
   "outputs": [],
   "source": [
    "Here’s a function, and its equivalent lambda function:\n",
    "\"\"\"\n",
    "\n",
    "def add_two(x, y):\n",
    "    return x + y\n",
    "\n",
    "lambda x, y: x+y\n",
    "\n",
    "\"\"\"\n",
    "But… how do you call them?\n",
    "\"\"\"\n",
    "\n",
    "add_two(10, 5)  # 15\n",
    "\n",
    "# ???\n",
    "(lambda x, y: x+y)(10, 5)  # 15\n",
    "\n",
    "\"\"\"\n",
    "Wait, that’s extremely unreadable! Yes, it is. Let’s talk more about how to use them in a moment…\n",
    "\n",
    "The structure of the lambda function is:\n",
    "\n",
    "* The `lambda` keyword;\n",
    "* The arguments, separated by commas;\n",
    "* A colon (`:`);\n",
    "* And what the function should return.\n",
    "\n",
    "> Lambda functions only take some inputs and return something—they cannot have multiple lines like normal functions.\n",
    "\n",
    "Something to remember: in any place where you can use a function, you can use a lambda function. And vice versa.\n",
    "\"\"\"\n",
    "\n",
    "## First class functions\n",
    "\"\"\"\n",
    "Functions in Python can be “first class functions”. That means functions themselves can be arguments to other functions! Take this example:\n",
    "\"\"\"\n",
    "\n",
    "def who(data, identify):\n",
    "    return identify(data)\n",
    "\n",
    "def my_identifier_function(data):\n",
    "    return data['name']\n",
    "\n",
    "user = { 'name': 'Jose', 'surname': 'Salvatierra' }\n",
    "\n",
    "print(who(user, my_identifier_function))\n",
    "\n",
    "\"\"\"\n",
    "This is a very common way of using first class functions in Python.\n",
    "\n",
    "You have a function that does something, but it is extended by the functionality of another function you pass in. That way, you can decide what the `who` function is going to retrieve from the data.\n",
    "\n",
    "For this to make sense, assume you don’t have access to modifying the `who` function, because it is part of Python or it was written by someone else.\n",
    "\n",
    "Now, we could re-write that example more concisely using lambda functions:\n",
    "\"\"\"\n",
    "\n",
    "def identifier(data, identify):\n",
    "    return identify(data)\n",
    "\n",
    "user = { 'name': 'Jose', 'surname': 'Salvatierra' }\n",
    "\n",
    "print(identifier(user, lambda x: x['name']))\n",
    "\n",
    "\"\"\"\n",
    "Instead of defining a function that needs a name and so forth, we can just create one right where it is used, that does exactly the same thing with less verbosity.\n",
    "\n",
    "Lambda functions are very useful when using first class functions.\n",
    "\"\"\"\n",
    "\n",
    "## Higher order functions\n",
    "\n",
    "\"\"\"\n",
    "The `identify` function above was a first class function, because it was passed as an argument.\n",
    "\n",
    "The `who` function, which accepted and used a function as an argument, is called a *higher order function*. That’s just some lingo for you to know!\n",
    "\n",
    "Some programming languages don’t support first class and higher order functions, but as we’ll see throughout the course they may end up being quite handy!\n",
    "\"\"\""
   ]
  },
  {
   "cell_type": "code",
   "execution_count": null,
   "metadata": {},
   "outputs": [],
   "source": [
    "#making the movie program.........."
   ]
  },
  {
   "cell_type": "code",
   "execution_count": null,
   "metadata": {},
   "outputs": [],
   "source": [
    "print('Welcome to the Movie program ! ')\n",
    "user_input = input('press a to add movie,s to see movie,f to find movie, q to quit')\n",
    "if user_input=='a':\n",
    "    new_movie=input('Plz enter the movie name u wanna add')\n",
    "else:\n",
    "    print('plz try again')\n",
    "    \n",
    "print(new_movie)\n",
    "\n",
    "\n",
    "\n",
    "\n",
    "\n"
   ]
  },
  {
   "cell_type": "code",
   "execution_count": 16,
   "metadata": {},
   "outputs": [
    {
     "name": "stdout",
     "output_type": "stream",
     "text": [
      "70\n",
      "71\n",
      "72\n",
      "73\n",
      "74\n",
      "75\n",
      "76\n",
      "77\n",
      "78\n",
      "79\n",
      "80\n"
     ]
    }
   ],
   "source": [
    "for i in range(ord('F'),ord('Q')):print(i)"
   ]
  },
  {
   "cell_type": "code",
   "execution_count": 24,
   "metadata": {
    "scrolled": true
   },
   "outputs": [
    {
     "data": {
      "text/plain": [
       "64"
      ]
     },
     "execution_count": 24,
     "metadata": {},
     "output_type": "execute_result"
    }
   ],
   "source": [
    "ord('@')"
   ]
  },
  {
   "cell_type": "code",
   "execution_count": 28,
   "metadata": {},
   "outputs": [
    {
     "name": "stdout",
     "output_type": "stream",
     "text": [
      "['ANURAG', 'GOOFY']\n"
     ]
    }
   ],
   "source": [
    "name_list2 = ['Anurag',\"goofy\"]\n",
    "uppercase_names2=[naam.upper() for naam in name_list2]\n",
    "print(uppercase_names2)"
   ]
  },
  {
   "cell_type": "code",
   "execution_count": 41,
   "metadata": {},
   "outputs": [
    {
     "name": "stdout",
     "output_type": "stream",
     "text": [
      "the strings of dna a\n"
     ]
    }
   ],
   "source": [
    "l=['A','C','T','G','U']\n",
    "x=input('the strings of dna ')\n",
    "for x in a :\n",
    "    if  x =='A':\n",
    "        print('a {x}--> U'.format(x))\n",
    "    elif x=='G':\n",
    "        print(f'{x}--> C')\n",
    "    elif x == 'C':\n",
    "        print(f'{x}--> G')\n",
    "    elif x == 'T':\n",
    "        print(f'{x}--> A')\n",
    "         \n",
    "#print('plz try again invalid input')"
   ]
  },
  {
   "cell_type": "code",
   "execution_count": 44,
   "metadata": {},
   "outputs": [
    {
     "name": "stdout",
     "output_type": "stream",
     "text": [
      "G\n",
      "C\n"
     ]
    }
   ],
   "source": [
    "b=input()\n",
    "a=\"GCTA\";c=\"CGAU\"\n",
    "try:print(''.join([c[a.index(i)]for i in b]))\n",
    "except:print(\"Invalid Input\")\n",
    " \n"
   ]
  },
  {
   "cell_type": "code",
   "execution_count": null,
   "metadata": {},
   "outputs": [],
   "source": [
    "import numpy as np\n",
    "import cv2\n",
    "import pyscreenshot as pys\n",
    "\n",
    "forcc = cv2.VideoWriter_fourcc(*'XVID')\n",
    "out = cv2.VideoWriter('output.avi', forcc, 8, (1920,1080))\n",
    "\n",
    "\n",
    "while True:\n",
    "    img= pys.grab()\n",
    "    img_np=np.array(img)\n",
    "\n",
    "    #frame= cv2.cvtColor(img_np, cv2.COLOR_BGR2GRAY)\n",
    "\n",
    "    cv2.imshow('Screen', img_np)\n",
    "    out.write(img_np)\n",
    "\n",
    "\n",
    "    if cv2.waitKey(20) & 0xFF==ord('q'):\n",
    "        break\n",
    "\n",
    "out.release()\n",
    "cv2.destroyAllWindows()"
   ]
  },
  {
   "cell_type": "code",
   "execution_count": 46,
   "metadata": {},
   "outputs": [
    {
     "ename": "ModuleNotFoundError",
     "evalue": "No module named 'cv2'",
     "output_type": "error",
     "traceback": [
      "\u001b[1;31m---------------------------------------------------------------------------\u001b[0m",
      "\u001b[1;31mModuleNotFoundError\u001b[0m                       Traceback (most recent call last)",
      "\u001b[1;32m<ipython-input-46-eb1db451a8ee>\u001b[0m in \u001b[0;36m<module>\u001b[1;34m\u001b[0m\n\u001b[1;32m----> 1\u001b[1;33m \u001b[1;32mimport\u001b[0m \u001b[0mcv2\u001b[0m\u001b[1;33m\u001b[0m\u001b[1;33m\u001b[0m\u001b[0m\n\u001b[0m\u001b[0;32m      2\u001b[0m \u001b[1;32mimport\u001b[0m \u001b[0mnumpy\u001b[0m \u001b[1;32mas\u001b[0m \u001b[0mnp\u001b[0m\u001b[1;33m\u001b[0m\u001b[1;33m\u001b[0m\u001b[0m\n\u001b[0;32m      3\u001b[0m \u001b[1;32mimport\u001b[0m \u001b[0mtime\u001b[0m\u001b[1;33m\u001b[0m\u001b[1;33m\u001b[0m\u001b[0m\n\u001b[0;32m      4\u001b[0m \u001b[0mpath\u001b[0m\u001b[1;33m=\u001b[0m\u001b[1;33m(\u001b[0m\u001b[0minput\u001b[0m\u001b[1;33m(\u001b[0m\u001b[1;34m\"Enter the Path of File:\"\u001b[0m\u001b[1;33m)\u001b[0m\u001b[1;33m)\u001b[0m\u001b[1;33m\u001b[0m\u001b[1;33m\u001b[0m\u001b[0m\n\u001b[0;32m      5\u001b[0m \u001b[0mimg\u001b[0m\u001b[1;33m=\u001b[0m\u001b[0mcv2\u001b[0m\u001b[1;33m.\u001b[0m\u001b[0mimread\u001b[0m\u001b[1;33m(\u001b[0m\u001b[0mpath\u001b[0m\u001b[1;33m,\u001b[0m\u001b[1;36m1\u001b[0m\u001b[1;33m)\u001b[0m\u001b[1;33m\u001b[0m\u001b[1;33m\u001b[0m\u001b[0m\n",
      "\u001b[1;31mModuleNotFoundError\u001b[0m: No module named 'cv2'"
     ]
    }
   ],
   "source": [
    "import cv2\n",
    "import numpy as np\n",
    "import time\n",
    "path=(input(\"Enter the Path of File:\"))\n",
    "img=cv2.imread(path,1)\n",
    "dict_1={1:'Gray scale image',2:'Binary image',3:'Blue',4:'smoothing the image',5:'Blurring the image',6:'Detecting the edge of image',7:'saturation',8:'Green',9:'Red',10:'Value',11:'Hue',12:'cropping the image',13:'Doubling the image',14:'Transposing the image',15:'Face Detection'}\n",
    "height=img.shape[0]\n",
    "width=img.shape[1]\n",
    "for i in range(1,len(dict_1)+1):\n",
    "    print(i,'.',dict_1.get(i))\n",
    "while(True):\n",
    "    num=input('Enter the number which type of image you want:')\n",
    "    cv2.imshow('image',img)\n",
    "    if num=='1':\n",
    "        img1=cv2.imread(path,0)\n",
    "        cv2.imshow('image',img1)\n",
    "    elif num=='2':\n",
    "        ret,bw=cv2.threshold(img,127,255,cv2.THRESH_BINARY)#through thresholding we will try to provide the value the value through which we can put below the particular value we assign the value 0 and above it will be white. \n",
    "        cv2.imshow(\"Binary\",bw)\n",
    "        img1=bw\n",
    "    elif num=='3':\n",
    "        B,G,R=cv2.split(img)\n",
    "        zeros=np.zeros((height,width),dtype=\"uint8\")\n",
    "        cv2.imshow(\"Blue\",cv2.merge([B,zeros,zeros]))\n",
    "        img1=cv2.merge([B,zeros,zeros])\n",
    "    elif num=='4':\n",
    "        bilateral=cv2.bilateralFilter(img,7,20,20)#9 ,75 and 75 are sigma color value and sigma space value affects cordinates space and color space \n",
    "        cv2.imshow(\"bilateral\",bilateral)\n",
    "        img1=bilateral\n",
    "    elif num=='5':\n",
    "        gaussian=cv2.GaussianBlur(img,(7,7),0)\n",
    "        cv2.imshow(\"GaussianBlur\",gaussian)\n",
    "        img1=gaussian\n",
    "    elif num=='6':\n",
    "        canny=cv2.Canny(img,20,170)#This demand two thresholds from us i.e; 20 and 170 this is like lower and upper value \n",
    "        cv2.imshow(\"canny\",canny)\n",
    "        img1=canny\n",
    "    elif num=='7':\n",
    "        img_HSV=cv2.cvtColor(img,cv2.COLOR_BGR2HSV)\n",
    "        cv2.imshow(\"saturation\",img_HSV[:,:,1])\n",
    "        img1=img_HSV[:,:,1]\n",
    "    elif num=='8':\n",
    "        B,G,R=cv2.split(img)\n",
    "        zeros=np.zeros((height,width),dtype=\"uint8\")\n",
    "        cv2.imshow(\"Green\",cv2.merge([zeros,G,zeros]))\n",
    "        img1=cv2.merge([zeros,G,zeros])\n",
    "    elif num=='9':\n",
    "        B,G,R=cv2.split(img)\n",
    "        zeros=np.zeros((height,width),dtype=\"uint8\")\n",
    "        cv2.imshow(\"Red\",cv2.merge([zeros,zeros,R]))\n",
    "        img1=cv2.merge([zeros,zeros,R])\n",
    "    elif num=='10':\n",
    "        img_HSV=cv2.cvtColor(img,cv2.COLOR_BGR2HSV)\n",
    "        cv2.imshow(\"valuechannel\",img_HSV[:,:,2])\n",
    "        img1=img_HSV[:,:,2]\n",
    "    elif num=='11':\n",
    "        img_HSV=cv2.cvtColor(img,cv2.COLOR_BGR2HSV)\n",
    "        cv2.imshow(\"Hue\",img_HSV[:,:,0])\n",
    "        img1=img_HSV[:,:,0]\n",
    "    elif num=='12':\n",
    "        height,width=img.shape[:2]\n",
    "        start_row,start_col=int(height*0.10),int(width*0.10)#starting pixel coordinates (topleft,of cropping rectangles)\n",
    "        end_row,end_col=int(height*0.86),int(width*0.86)#ending pixel coordinates (bottom right),this can be changed\n",
    "        cropped=img[start_row:end_row,start_col:end_col]\n",
    "        cv2.imshow('cropped',cropped)\n",
    "        img1=cropped\n",
    "    elif num=='13':\n",
    "        resized=cv2.resize(img,(int(img.shape[1]*1.5),int(img.shape[0]*1.5)))#converting the float value into integer value\n",
    "        cv2.imshow('resize',resized)\n",
    "        img1=resized\n",
    "    elif num=='14':\n",
    "        rotation_image=cv2.transpose(img)#this will covert the image of horizontal pixel elements into vertical pixel elements as in matrix\n",
    "        cv2.imshow(\"legend\",rotation_image)\n",
    "        img1=rotation_image\n",
    "    elif num=='15':\n",
    "        face_cascade=cv2.CascadeClassifier(\"haarcascade_frontalface_default.xml\")\n",
    "        gray_img=cv2.cvtColor(img,cv2.COLOR_BGR2GRAY)\n",
    "        faces=face_cascade.detectMultiScale(gray_img,scaleFactor=1.06,minNeighbors=6)\n",
    "        for x,y,w,h in faces:\n",
    "            img1=cv2.rectangle(img,(x,y),(x+w,y+h),(0,0,255),3)\n",
    "            cv2.imshow(\"Gray\",img1)\n",
    "    else:\n",
    "        print('invalid input')\n",
    "    cv2.waitKey(0)\n",
    "    cv2.destroyAllWindows()\n",
    "    save=input('Do you want to save?y/n')\n",
    "    if save=='y':\n",
    "        file=input('Enter the image name to be saved')\n",
    "        cv2.imwrite(file+'.jpg',img1)\n",
    "    elif save=='n':\n",
    "        print('its ok')\n",
    "    else:\n",
    "        print('invalid input')\n",
    "    a=input('Do you break?y/n')\n",
    "    if a=='y':\n",
    "        break\n",
    "    elif a=='n':\n",
    "        print('its ok')\n",
    "    else:\n",
    "        print('invalid input')\n",
    "        pass "
   ]
  },
  {
   "cell_type": "code",
   "execution_count": null,
   "metadata": {},
   "outputs": [],
   "source": []
  }
 ],
 "metadata": {
  "kernelspec": {
   "display_name": "Python 3",
   "language": "python",
   "name": "python3"
  },
  "language_info": {
   "codemirror_mode": {
    "name": "ipython",
    "version": 3
   },
   "file_extension": ".py",
   "mimetype": "text/x-python",
   "name": "python",
   "nbconvert_exporter": "python",
   "pygments_lexer": "ipython3",
   "version": "3.7.1"
  }
 },
 "nbformat": 4,
 "nbformat_minor": 2
}
