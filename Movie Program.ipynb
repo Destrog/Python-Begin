{
 "cells": [
  {
   "cell_type": "code",
   "execution_count": null,
   "metadata": {},
   "outputs": [
    {
     "name": "stdout",
     "output_type": "stream",
     "text": [
      "press a to add movie,s to see movie,f to find movie, q to quit s\n",
      " Name: avengers\n",
      " Category:scifi\n",
      " Name: titanic\n",
      " Category:romance\n"
     ]
    }
   ],
   "source": [
    "movies=[{'name':'avengers','category':'scifi'},{'name':'titanic','category':'romance' }]\n",
    "def menu():\n",
    "    user_input = input('press a to add movie,s to see movie,f to find movie, q to quit ')\n",
    "    while user_input != 'q'  :\n",
    "        if user_input == 'a' :\n",
    "            add()\n",
    "        elif user_input=='s' :\n",
    "            show()\n",
    "        elif user_input=='f' :\n",
    "            find()\n",
    "        else:\n",
    "            print('unknown command try again')\n",
    "       \n",
    "    \n",
    "        user_input = input(' \\n press a to add movie,s to see movie,f to find movie, q to quit ')\n",
    "\n",
    "def add():\n",
    "    name=input(' enter movie name u wanna insert in the list ' )\n",
    "    category=input(' enter category of the movie')\n",
    "    movies.append({'name':name,  'category':category})\n",
    "def show():\n",
    "    for movie in movies:\n",
    "        print(f\" Name: {movie['name']}\")\n",
    "        print(f\" Category:{movie['category']}\")\n",
    "        \n",
    "              \n",
    "menu()             "
   ]
  }
 ],
 "metadata": {
  "kernelspec": {
   "display_name": "Python 3",
   "language": "python",
   "name": "python3"
  },
  "language_info": {
   "codemirror_mode": {
    "name": "ipython",
    "version": 3
   },
   "file_extension": ".py",
   "mimetype": "text/x-python",
   "name": "python",
   "nbconvert_exporter": "python",
   "pygments_lexer": "ipython3",
   "version": "3.7.1"
  }
 },
 "nbformat": 4,
 "nbformat_minor": 2
}
